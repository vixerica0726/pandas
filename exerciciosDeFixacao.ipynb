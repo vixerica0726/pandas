{
  "nbformat": 4,
  "nbformat_minor": 0,
  "metadata": {
    "colab": {
      "provenance": [],
      "authorship_tag": "ABX9TyNfmQdnrZ3N+p2xYzfSgMbl",
      "include_colab_link": true
    },
    "kernelspec": {
      "name": "python3",
      "display_name": "Python 3"
    },
    "language_info": {
      "name": "python"
    }
  },
  "cells": [
    {
      "cell_type": "markdown",
      "metadata": {
        "id": "view-in-github",
        "colab_type": "text"
      },
      "source": [
        "<a href=\"https://colab.research.google.com/github/vixerica0726/pandas/blob/main/exerciciosDeFixacao.ipynb\" target=\"_parent\"><img src=\"https://colab.research.google.com/assets/colab-badge.svg\" alt=\"Open In Colab\"/></a>"
      ]
    },
    {
      "cell_type": "code",
      "execution_count": 2,
      "metadata": {
        "colab": {
          "base_uri": "https://localhost:8080/"
        },
        "id": "OG4TOgT1xHr6",
        "outputId": "0d7de7db-0709-4811-ad63-f1072b5204b8"
      },
      "outputs": [
        {
          "output_type": "stream",
          "name": "stdout",
          "text": [
            "Cenário 1 - Clientes para abordar:\n",
            "              nome            empresa  renda_anual         tipo_imovel\n",
            "0      Maria Silva  Carri Construtora          150  Investir em imóvel\n",
            "2        Ana Costa         GreenFoods          120  Investir em imóvel\n",
            "3    Lucas Pereira  Carri Construtora          110     Morar em imóvel\n",
            "5   Carlos Almeida           TechFlix          105  Investir em imóvel\n",
            "6     Renata Rocha      FuturoDigital          150     Morar em imóvel\n",
            "7  Thiago Oliveira          HomeDecor          115     Morar em imóvel\n",
            "8    Fernanda Lima         GreenFoods          130  Investir em imóvel\n",
            "\n",
            "Cenário 2 - Empresas de Streaming com maior ROI:\n",
            "    empresa       roi\n",
            "5  TechFlix  2.000000\n",
            "1  TechFlix  1.666667\n",
            "\n",
            "Cenário 3 - Classificação de Propostas:\n",
            "             empresa      mercado      concorrente tipo_proposta\n",
            "0  Carri Construtora  Imobiliário  Não Concorrente     Somatória\n",
            "1           TechFlix    Streaming  Não Concorrente     Somatória\n",
            "2         GreenFoods    Alimentos      Concorrente    Excludente\n",
            "3  Carri Construtora  Imobiliário  Não Concorrente     Somatória\n",
            "4          StyleWear    Vestuário      Concorrente    Excludente\n",
            "5           TechFlix    Streaming  Não Concorrente     Somatória\n",
            "6      FuturoDigital    Marketing  Não Concorrente     Somatória\n",
            "7          HomeDecor    Decoração  Não Concorrente     Somatória\n",
            "8         GreenFoods    Alimentos      Concorrente    Excludente\n",
            "9          StyleWear    Vestuário      Concorrente    Excludente\n"
          ]
        },
        {
          "output_type": "stream",
          "name": "stderr",
          "text": [
            "<ipython-input-2-9be6cb8ad3ce>:25: SettingWithCopyWarning: \n",
            "A value is trying to be set on a copy of a slice from a DataFrame.\n",
            "Try using .loc[row_indexer,col_indexer] = value instead\n",
            "\n",
            "See the caveats in the documentation: https://pandas.pydata.org/pandas-docs/stable/user_guide/indexing.html#returning-a-view-versus-a-copy\n",
            "  clientes_mcv['tipo_imovel'] = clientes_mcv['preferencia_imovel'].apply(lambda x: 'Investir em imóvel' if 'Investir' in x else 'Morar em imóvel')\n",
            "<ipython-input-2-9be6cb8ad3ce>:32: SettingWithCopyWarning: \n",
            "A value is trying to be set on a copy of a slice from a DataFrame.\n",
            "Try using .loc[row_indexer,col_indexer] = value instead\n",
            "\n",
            "See the caveats in the documentation: https://pandas.pydata.org/pandas-docs/stable/user_guide/indexing.html#returning-a-view-versus-a-copy\n",
            "  df_streaming['roi'] = df_streaming['retorno_esperado'] / df_streaming['investimento']\n"
          ]
        }
      ],
      "source": [
        "# Importar bibliotecas necessárias\n",
        "import pandas as pd\n",
        "\n",
        "# Criar os dados fictícios\n",
        "data = {\n",
        "    'nome': ['Maria Silva', 'João Santos', 'Ana Costa', 'Lucas Pereira', 'Beatriz Souza',\n",
        "             'Carlos Almeida', 'Renata Rocha', 'Thiago Oliveira', 'Fernanda Lima', 'Ricardo Dias'],\n",
        "    'empresa': ['Carri Construtora', 'TechFlix', 'GreenFoods', 'Carri Construtora', 'StyleWear',\n",
        "                'TechFlix', 'FuturoDigital', 'HomeDecor', 'GreenFoods', 'StyleWear'],\n",
        "    'mercado': ['Imobiliário', 'Streaming', 'Alimentos', 'Imobiliário', 'Vestuário',\n",
        "                'Streaming', 'Marketing', 'Decoração', 'Alimentos', 'Vestuário'],\n",
        "    'renda_anual': [150, 80, 120, 110, 90, 105, 150, 115, 130, 95],\n",
        "    'preferencia_imovel': ['Investir em imóvel', 'Morar em imóvel', 'Investir em imóvel',\n",
        "                           'Morar em imóvel', 'Investir em imóvel', 'Investir em imóvel',\n",
        "                           'Morar em imóvel', 'Morar em imóvel', 'Investir em imóvel', 'Morar em imóvel'],\n",
        "    'investimento': [50000, 30000, 20000, 45000, 15000, 40000, 60000, 35000, 25000, 50000],\n",
        "    'retorno_esperado': [100000, 50000, 70000, 90000, 45000, 80000, 120000, 95000, 60000, 85000]\n",
        "}\n",
        "\n",
        "# Criar o DataFrame\n",
        "df = pd.DataFrame(data)\n",
        "\n",
        "# Cenário 1: Carri Construtora - Encontrar possíveis compradores\n",
        "clientes_mcv = df[df['renda_anual'] > 104]\n",
        "clientes_mcv['tipo_imovel'] = clientes_mcv['preferencia_imovel'].apply(lambda x: 'Investir em imóvel' if 'Investir' in x else 'Morar em imóvel')\n",
        "\n",
        "print(\"Cenário 1 - Clientes para abordar:\")\n",
        "print(clientes_mcv[['nome', 'empresa', 'renda_anual', 'tipo_imovel']])\n",
        "\n",
        "# Cenário 2: Hillo - Parceria de Streaming\n",
        "df_streaming = df[df['mercado'] == 'Streaming']\n",
        "df_streaming['roi'] = df_streaming['retorno_esperado'] / df_streaming['investimento']\n",
        "df_streaming_sorted = df_streaming[['empresa', 'roi']].sort_values(by='roi', ascending=False)\n",
        "\n",
        "print(\"\\nCenário 2 - Empresas de Streaming com maior ROI:\")\n",
        "print(df_streaming_sorted)\n",
        "\n",
        "# Cenário 3: Influenciadora Digital - Análise de Propostas\n",
        "df['concorrente'] = df['mercado'].apply(lambda x: 'Concorrente' if 'Vestuário' in x or 'Alimentos' in x else 'Não Concorrente')\n",
        "df['tipo_proposta'] = df.apply(lambda row: 'Excludente' if row['concorrente'] == 'Concorrente' else 'Somatória', axis=1)\n",
        "\n",
        "print(\"\\nCenário 3 - Classificação de Propostas:\")\n",
        "print(df[['empresa', 'mercado', 'concorrente', 'tipo_proposta']])\n"
      ]
    }
  ]
}